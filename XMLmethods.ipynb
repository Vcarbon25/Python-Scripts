{
  "nbformat": 4,
  "nbformat_minor": 0,
  "metadata": {
    "colab": {
      "provenance": [],
      "authorship_tag": "ABX9TyNeQMbthwMCGBn03zMpt4SR",
      "include_colab_link": true
    },
    "kernelspec": {
      "name": "python3",
      "display_name": "Python 3"
    },
    "language_info": {
      "name": "python"
    }
  },
  "cells": [
    {
      "cell_type": "markdown",
      "metadata": {
        "id": "view-in-github",
        "colab_type": "text"
      },
      "source": [
        "<a href=\"https://colab.research.google.com/github/Vcarbon25/Python-Scripts/blob/main/XMLmethods.ipynb\" target=\"_parent\"><img src=\"https://colab.research.google.com/assets/colab-badge.svg\" alt=\"Open In Colab\"/></a>"
      ]
    },
    {
      "cell_type": "code",
      "source": [
        "pip install lxml"
      ],
      "metadata": {
        "colab": {
          "base_uri": "https://localhost:8080/"
        },
        "id": "v7HT_1-jxddq",
        "outputId": "d1513921-5653-4671-9e29-aca4ece96fa1"
      },
      "execution_count": 3,
      "outputs": [
        {
          "output_type": "stream",
          "name": "stdout",
          "text": [
            "Requirement already satisfied: lxml in /usr/local/lib/python3.10/dist-packages (4.9.4)\n"
          ]
        }
      ]
    },
    {
      "cell_type": "code",
      "execution_count": 4,
      "metadata": {
        "id": "X0BxohezOrY6"
      },
      "outputs": [],
      "source": [
        "import xml.etree.ElementTree as ET\n",
        "import lxml.etree as etree"
      ]
    },
    {
      "cell_type": "code",
      "source": [
        "#to create a complex xml element tree\n",
        "root = etree.Element('Storehouse')\n",
        "Liquids=etree.SubElement(root,\"Liquids\")\n",
        "Liquids.text=\"All types of liquids will be inserted here\"\n",
        "Canned=etree.SubElement(Liquids,\"CannedLiquids\")\n",
        "Canned.text=\"Multiple diferent brands\"\n",
        "#to define attribute and text in one line\n",
        "Canned1 = etree.SubElement(Canned,\"Coke\",text=\"canned coke for sale\",Quantity=\"400\")\n",
        "\n",
        "Solids = etree.SubElement(root,\"Solids\")\n",
        "#set text sepparetly\n",
        "Solids.text=\"All types of solids will be inserted here\"\n",
        "Solid1=etree.SubElement(Solids,\"Flour\")\n",
        "#set atribute sepparetly\n",
        "Solid1.set(\"Quatity\",\"1000\")\n",
        "XmlText=etree.tostring(root)\n",
        "\n",
        "print(\"complex xml: \",XmlText)"
      ],
      "metadata": {
        "colab": {
          "base_uri": "https://localhost:8080/"
        },
        "id": "vtXfL1kNPC5C",
        "outputId": "a8085979-a053-4344-c689-c0b0feee8fbf"
      },
      "execution_count": 22,
      "outputs": [
        {
          "output_type": "stream",
          "name": "stdout",
          "text": [
            "complex xml:  b'<Storehouse><Liquids>All types of liquids will be inserted here<CannedLiquids>Multiple diferent brands<Coke text=\"canned coke for sale\" Quantity=\"400\"/></CannedLiquids></Liquids><Solids>All types of solids will be inserted here<Flour Quatity=\"1000\"/></Solids></Storehouse>'\n"
          ]
        }
      ]
    },
    {
      "cell_type": "code",
      "source": [
        "parser = etree.XMLParser(recover=True, encoding=\"utf-8\")\n",
        "#Tree = etree.parse(XmlText,parser=parser) #must receive from file\n",
        "DecodedRoot = etree.fromstring(XmlText,parser=parser)\n",
        "#to format the xml in an easy to understand manner\n",
        "result = etree.tostring(DecodedRoot,pretty_print=True,encoding=\"utf-8\")\n",
        "print(result)\n",
        "#print(Tree.getchildren())\n",
        "# Navigate through the whole document\n",
        "print(DecodedRoot.tag)\n",
        "\n",
        "for parent in DecodedRoot:\n",
        "    print(f\"Parent tag: {parent.tag}, Attribute {parent.attrib}, Text: {parent.text}\")\n",
        "    for child in parent:\n",
        "        print(f\"Child tag: {child.tag}, Attribute {child.attrib}, Text: {child.text}\")\n",
        "        for grandchild in child:\n",
        "            print(f\"Grandchild tag: {grandchild.tag}, Attribute: {grandchild.attrib}, Text: {grandchild.text}\")\n",
        "etree.strip_tags(DecodedRoot,\"Flour\")#to delete a whole tag\n",
        "print(etree.tostring(DecodedRoot,pretty_print=True,encoding=\"utf-8\"))\n",
        "etree.strip_attributes(DecodedRoot,\"Quantity\")#to delete a whole attributean attribute from all nodes\n",
        "print(etree.tostring(DecodedRoot,pretty_print=True,encoding=\"utf-8\"))\n",
        "print(DecodedRoot[0][0]) #to acees ingle element use as a list"
      ],
      "metadata": {
        "colab": {
          "base_uri": "https://localhost:8080/"
        },
        "id": "L0tE0AceGOuS",
        "outputId": "6bfe3730-34a7-4658-d71c-46d6b5f4a7fc"
      },
      "execution_count": 25,
      "outputs": [
        {
          "output_type": "stream",
          "name": "stdout",
          "text": [
            "b'<Storehouse>\\n  <Liquids>All types of liquids will be inserted here<CannedLiquids>Multiple diferent brands<Coke text=\"canned coke for sale\" Quantity=\"400\"/></CannedLiquids></Liquids>\\n  <Solids>All types of solids will be inserted here<Flour Quatity=\"1000\"/></Solids>\\n</Storehouse>\\n'\n",
            "Storehouse\n",
            "Parent tag: Liquids, Attribute {}, Text: All types of liquids will be inserted here\n",
            "Child tag: CannedLiquids, Attribute {}, Text: Multiple diferent brands\n",
            "Grandchild tag: Coke, Attribute: {'text': 'canned coke for sale', 'Quantity': '400'}, Text: None\n",
            "Parent tag: Solids, Attribute {}, Text: All types of solids will be inserted here\n",
            "Child tag: Flour, Attribute {'Quatity': '1000'}, Text: None\n",
            "b'<Storehouse>\\n  <Liquids>All types of liquids will be inserted here<CannedLiquids>Multiple diferent brands<Coke text=\"canned coke for sale\" Quantity=\"400\"/></CannedLiquids></Liquids>\\n  <Solids>All types of solids will be inserted here</Solids>\\n</Storehouse>\\n'\n",
            "b'<Storehouse>\\n  <Liquids>All types of liquids will be inserted here<CannedLiquids>Multiple diferent brands<Coke text=\"canned coke for sale\"/></CannedLiquids></Liquids>\\n  <Solids>All types of solids will be inserted here</Solids>\\n</Storehouse>\\n'\n",
            "<Element CannedLiquids at 0x7b3818c24740>\n"
          ]
        }
      ]
    }
  ]
}