{
  "nbformat": 4,
  "nbformat_minor": 0,
  "metadata": {
    "colab": {
      "provenance": [],
      "authorship_tag": "ABX9TyMYLfA79hemPXivBacFPv1m",
      "include_colab_link": true
    },
    "kernelspec": {
      "name": "python3",
      "display_name": "Python 3"
    },
    "language_info": {
      "name": "python"
    }
  },
  "cells": [
    {
      "cell_type": "markdown",
      "metadata": {
        "id": "view-in-github",
        "colab_type": "text"
      },
      "source": [
        "<a href=\"https://colab.research.google.com/github/Vcarbon25/Python-Scripts/blob/main/JsonMethods.ipynb\" target=\"_parent\"><img src=\"https://colab.research.google.com/assets/colab-badge.svg\" alt=\"Open In Colab\"/></a>"
      ]
    },
    {
      "cell_type": "code",
      "execution_count": 1,
      "metadata": {
        "id": "RvTVuxtIRoMm"
      },
      "outputs": [],
      "source": [
        "#Json is Javascript Object Notation, but its a really useful way to store data\n",
        "#because it allows easy reading\n",
        "#its a pre installed module so just\n",
        "import json"
      ]
    },
    {
      "cell_type": "code",
      "source": [
        "#Create JSON object\n",
        "Obj1 = {\"Name\":\"Luke\",\"Align\":\"Jedi\",\"Status\":\"Alive\"}\n",
        "Obj2 = {\"Name\":\"Obi Wan\",\"Align\":\"Jedi\",\"Status\":\"Dead\"}\n",
        "Obj3 = {\"Name\":\"Grievous\",\"Align\":\"Sith\",\"Status\":\"Dead\"}\n",
        "ComplexDict={\"1st\":Obj1,\"2nd\":Obj2,\"3th\":Obj3}\n",
        "JsObj1 = json.dumps(ComplexDict) #like this it creates the object but gets confusing to read\n",
        "print(JsObj1)\n",
        "JsObj2=json.dumps(ComplexDict,indent=4) #like this the visualization is way better\n",
        "print(JsObj2)"
      ],
      "metadata": {
        "colab": {
          "base_uri": "https://localhost:8080/"
        },
        "id": "tfS6G0DjR7cv",
        "outputId": "52f28fe6-bc46-41d0-e8f0-ef3cbf94281f"
      },
      "execution_count": 9,
      "outputs": [
        {
          "output_type": "stream",
          "name": "stdout",
          "text": [
            "{\"1st\": {\"Name\": \"Luke\", \"Align\": \"Jedi\", \"Status\": \"Alive\"}, \"2nd\": {\"Name\": \"Obi Wan\", \"Align\": \"Jedi\", \"Status\": \"Dead\"}, \"3th\": {\"Name\": \"Grievous\", \"Align\": \"Sith\", \"Status\": \"Dead\"}}\n",
            "{\n",
            "    \"1st\": {\n",
            "        \"Name\": \"Luke\",\n",
            "        \"Align\": \"Jedi\",\n",
            "        \"Status\": \"Alive\"\n",
            "    },\n",
            "    \"2nd\": {\n",
            "        \"Name\": \"Obi Wan\",\n",
            "        \"Align\": \"Jedi\",\n",
            "        \"Status\": \"Dead\"\n",
            "    },\n",
            "    \"3th\": {\n",
            "        \"Name\": \"Grievous\",\n",
            "        \"Align\": \"Sith\",\n",
            "        \"Status\": \"Dead\"\n",
            "    }\n",
            "}\n"
          ]
        }
      ]
    },
    {
      "cell_type": "code",
      "source": [
        "#parsing the JSON\n",
        "PyObj = json.loads(JsObj2)\n",
        "print(PyObj)\n",
        "print(type(PyObj))"
      ],
      "metadata": {
        "colab": {
          "base_uri": "https://localhost:8080/"
        },
        "id": "x-grRYOPaaPa",
        "outputId": "a77c5027-668c-4ecb-ff62-0362dc4243c6"
      },
      "execution_count": 12,
      "outputs": [
        {
          "output_type": "stream",
          "name": "stdout",
          "text": [
            "{'1st': {'Name': 'Luke', 'Align': 'Jedi', 'Status': 'Alive'}, '2nd': {'Name': 'Obi Wan', 'Align': 'Jedi', 'Status': 'Dead'}, '3th': {'Name': 'Grievous', 'Align': 'Sith', 'Status': 'Dead'}}\n",
            "<class 'dict'>\n"
          ]
        }
      ]
    }
  ]
}